{
 "cells": [
  {
   "cell_type": "code",
   "execution_count": 1,
   "id": "6e49a695",
   "metadata": {},
   "outputs": [],
   "source": [
    "import pandas as pd \n",
    "from sqlalchemy import create_engine"
   ]
  },
  {
   "cell_type": "code",
   "execution_count": 2,
   "id": "e647b9cc",
   "metadata": {},
   "outputs": [],
   "source": [
    "database = 'database_name'\n",
    "username = 'postgres'\n",
    "password = 'password'\n",
    "host = 'localhost'\n",
    "port = '5432'"
   ]
  },
  {
   "cell_type": "code",
   "execution_count": 3,
   "id": "68659f79",
   "metadata": {},
   "outputs": [
    {
     "data": {
      "text/plain": [
       "<sqlalchemy.engine.base.Connection at 0x174045c9b50>"
      ]
     },
     "execution_count": 3,
     "metadata": {},
     "output_type": "execute_result"
    }
   ],
   "source": [
    "engine = create_engine(f'postgresql://{username}:{password}@{host}:{port}/{database}')\n",
    "engine.connect()"
   ]
  },
  {
   "cell_type": "code",
   "execution_count": 4,
   "id": "f936ec5c",
   "metadata": {},
   "outputs": [],
   "source": [
    "raw_hosts = pd.read_csv('raw_hosts.csv')\n",
    "raw_listings = pd.read_csv('raw_listings.csv')\n",
    "raw_reviews = pd.read_csv('raw_reviews.csv')"
   ]
  },
  {
   "cell_type": "code",
   "execution_count": 5,
   "id": "71913e6a",
   "metadata": {},
   "outputs": [
    {
     "data": {
      "text/html": [
       "<div>\n",
       "<style scoped>\n",
       "    .dataframe tbody tr th:only-of-type {\n",
       "        vertical-align: middle;\n",
       "    }\n",
       "\n",
       "    .dataframe tbody tr th {\n",
       "        vertical-align: top;\n",
       "    }\n",
       "\n",
       "    .dataframe thead th {\n",
       "        text-align: right;\n",
       "    }\n",
       "</style>\n",
       "<table border=\"1\" class=\"dataframe\">\n",
       "  <thead>\n",
       "    <tr style=\"text-align: right;\">\n",
       "      <th></th>\n",
       "      <th>id</th>\n",
       "      <th>name</th>\n",
       "      <th>is_superhost</th>\n",
       "      <th>created_at</th>\n",
       "      <th>updated_at</th>\n",
       "    </tr>\n",
       "  </thead>\n",
       "  <tbody>\n",
       "    <tr>\n",
       "      <th>0</th>\n",
       "      <td>1581</td>\n",
       "      <td>Annette</td>\n",
       "      <td>f</td>\n",
       "      <td>2014-01-05T16:12:45Z</td>\n",
       "      <td>2014-01-05T16:12:45Z</td>\n",
       "    </tr>\n",
       "    <tr>\n",
       "      <th>1</th>\n",
       "      <td>2164</td>\n",
       "      <td>Lulah</td>\n",
       "      <td>t</td>\n",
       "      <td>2013-07-31T23:29:31Z</td>\n",
       "      <td>2013-07-31T23:29:31Z</td>\n",
       "    </tr>\n",
       "    <tr>\n",
       "      <th>2</th>\n",
       "      <td>2217</td>\n",
       "      <td>Ion</td>\n",
       "      <td>t</td>\n",
       "      <td>2017-10-17T05:20:28Z</td>\n",
       "      <td>2017-10-17T05:20:28Z</td>\n",
       "    </tr>\n",
       "    <tr>\n",
       "      <th>3</th>\n",
       "      <td>3718</td>\n",
       "      <td>Britta</td>\n",
       "      <td>f</td>\n",
       "      <td>2009-06-05T21:34:42Z</td>\n",
       "      <td>2009-06-05T21:34:42Z</td>\n",
       "    </tr>\n",
       "    <tr>\n",
       "      <th>4</th>\n",
       "      <td>11622</td>\n",
       "      <td>Maria</td>\n",
       "      <td>f</td>\n",
       "      <td>2021-10-24T02:42:09Z</td>\n",
       "      <td>2021-10-24T02:42:09Z</td>\n",
       "    </tr>\n",
       "  </tbody>\n",
       "</table>\n",
       "</div>"
      ],
      "text/plain": [
       "      id     name is_superhost            created_at            updated_at\n",
       "0   1581  Annette            f  2014-01-05T16:12:45Z  2014-01-05T16:12:45Z\n",
       "1   2164    Lulah            t  2013-07-31T23:29:31Z  2013-07-31T23:29:31Z\n",
       "2   2217      Ion            t  2017-10-17T05:20:28Z  2017-10-17T05:20:28Z\n",
       "3   3718   Britta            f  2009-06-05T21:34:42Z  2009-06-05T21:34:42Z\n",
       "4  11622    Maria            f  2021-10-24T02:42:09Z  2021-10-24T02:42:09Z"
      ]
     },
     "execution_count": 5,
     "metadata": {},
     "output_type": "execute_result"
    }
   ],
   "source": [
    "raw_hosts.head(1)"
   ]
  },
  {
   "cell_type": "code",
   "execution_count": 6,
   "id": "900a901c",
   "metadata": {},
   "outputs": [
    {
     "name": "stdout",
     "output_type": "stream",
     "text": [
      "<class 'pandas.core.frame.DataFrame'>\n",
      "RangeIndex: 14111 entries, 0 to 14110\n",
      "Data columns (total 5 columns):\n",
      " #   Column        Non-Null Count  Dtype \n",
      "---  ------        --------------  ----- \n",
      " 0   id            14111 non-null  int64 \n",
      " 1   name          14096 non-null  object\n",
      " 2   is_superhost  14096 non-null  object\n",
      " 3   created_at    14111 non-null  object\n",
      " 4   updated_at    14111 non-null  object\n",
      "dtypes: int64(1), object(4)\n",
      "memory usage: 551.3+ KB\n"
     ]
    }
   ],
   "source": [
    "raw_hosts.info()"
   ]
  },
  {
   "cell_type": "code",
   "execution_count": 7,
   "id": "bab1ea37",
   "metadata": {},
   "outputs": [],
   "source": [
    "# converting created_at and updating_at to datetime type\n",
    "raw_hosts.created_at = pd.to_datetime(raw_hosts.created_at)\n",
    "raw_hosts.updated_at = pd.to_datetime(raw_hosts.updated_at)"
   ]
  },
  {
   "cell_type": "code",
   "execution_count": 9,
   "id": "64a1ec64",
   "metadata": {},
   "outputs": [
    {
     "data": {
      "text/html": [
       "<div>\n",
       "<style scoped>\n",
       "    .dataframe tbody tr th:only-of-type {\n",
       "        vertical-align: middle;\n",
       "    }\n",
       "\n",
       "    .dataframe tbody tr th {\n",
       "        vertical-align: top;\n",
       "    }\n",
       "\n",
       "    .dataframe thead th {\n",
       "        text-align: right;\n",
       "    }\n",
       "</style>\n",
       "<table border=\"1\" class=\"dataframe\">\n",
       "  <thead>\n",
       "    <tr style=\"text-align: right;\">\n",
       "      <th></th>\n",
       "      <th>ID</th>\n",
       "      <th>LISTING_URL</th>\n",
       "      <th>NAME</th>\n",
       "      <th>ROOM_TYPE</th>\n",
       "      <th>MINIMUM_NIGHTS</th>\n",
       "      <th>HOST_ID</th>\n",
       "      <th>PRICE</th>\n",
       "      <th>CREATED_AT</th>\n",
       "      <th>UPDATED_AT</th>\n",
       "    </tr>\n",
       "  </thead>\n",
       "  <tbody>\n",
       "    <tr>\n",
       "      <th>0</th>\n",
       "      <td>3176</td>\n",
       "      <td>https://www.airbnb.com/rooms/3176</td>\n",
       "      <td>Fabulous Flat in great Location</td>\n",
       "      <td>Entire home/apt</td>\n",
       "      <td>62</td>\n",
       "      <td>3718</td>\n",
       "      <td>$90.00</td>\n",
       "      <td>2009-06-05T21:34:42Z</td>\n",
       "      <td>2009-06-05T21:34:42Z</td>\n",
       "    </tr>\n",
       "  </tbody>\n",
       "</table>\n",
       "</div>"
      ],
      "text/plain": [
       "     ID                        LISTING_URL                             NAME  \\\n",
       "0  3176  https://www.airbnb.com/rooms/3176  Fabulous Flat in great Location   \n",
       "\n",
       "         ROOM_TYPE  MINIMUM_NIGHTS  HOST_ID   PRICE            CREATED_AT  \\\n",
       "0  Entire home/apt              62     3718  $90.00  2009-06-05T21:34:42Z   \n",
       "\n",
       "             UPDATED_AT  \n",
       "0  2009-06-05T21:34:42Z  "
      ]
     },
     "execution_count": 9,
     "metadata": {},
     "output_type": "execute_result"
    }
   ],
   "source": [
    "raw_listings.head(1)"
   ]
  },
  {
   "cell_type": "code",
   "execution_count": 10,
   "id": "91383b4d",
   "metadata": {},
   "outputs": [],
   "source": [
    "# converting created_at and updating_at to datetime type\n",
    "raw_listings.CREATED_AT = pd.to_datetime(raw_listings.CREATED_AT)\n",
    "raw_listings.UPDATED_AT = pd.to_datetime(raw_listings.UPDATED_AT)"
   ]
  },
  {
   "cell_type": "code",
   "execution_count": 12,
   "id": "eace307f",
   "metadata": {},
   "outputs": [
    {
     "data": {
      "text/html": [
       "<div>\n",
       "<style scoped>\n",
       "    .dataframe tbody tr th:only-of-type {\n",
       "        vertical-align: middle;\n",
       "    }\n",
       "\n",
       "    .dataframe tbody tr th {\n",
       "        vertical-align: top;\n",
       "    }\n",
       "\n",
       "    .dataframe thead th {\n",
       "        text-align: right;\n",
       "    }\n",
       "</style>\n",
       "<table border=\"1\" class=\"dataframe\">\n",
       "  <thead>\n",
       "    <tr style=\"text-align: right;\">\n",
       "      <th></th>\n",
       "      <th>LISTING_ID</th>\n",
       "      <th>DATE</th>\n",
       "      <th>REVIEWER_NAME</th>\n",
       "      <th>COMMENTS</th>\n",
       "      <th>SENTIMENT</th>\n",
       "    </tr>\n",
       "  </thead>\n",
       "  <tbody>\n",
       "    <tr>\n",
       "      <th>0</th>\n",
       "      <td>3176</td>\n",
       "      <td>2009-06-20T00:00:00Z</td>\n",
       "      <td>Milan</td>\n",
       "      <td>excellent stay, i would highly recommend it. a...</td>\n",
       "      <td>positive</td>\n",
       "    </tr>\n",
       "  </tbody>\n",
       "</table>\n",
       "</div>"
      ],
      "text/plain": [
       "   LISTING_ID                  DATE REVIEWER_NAME  \\\n",
       "0        3176  2009-06-20T00:00:00Z         Milan   \n",
       "\n",
       "                                            COMMENTS SENTIMENT  \n",
       "0  excellent stay, i would highly recommend it. a...  positive  "
      ]
     },
     "execution_count": 12,
     "metadata": {},
     "output_type": "execute_result"
    }
   ],
   "source": [
    "raw_reviews.head(1)"
   ]
  },
  {
   "cell_type": "code",
   "execution_count": 13,
   "id": "2a2d07bf",
   "metadata": {},
   "outputs": [],
   "source": [
    "# converting created_at and updating_at to datetime type\n",
    "raw_reviews.DATE = pd.to_datetime(raw_reviews.DATE)"
   ]
  },
  {
   "cell_type": "code",
   "execution_count": 16,
   "id": "e3e77a3c",
   "metadata": {},
   "outputs": [
    {
     "data": {
      "text/plain": [
       "499"
      ]
     },
     "execution_count": 16,
     "metadata": {},
     "output_type": "execute_result"
    }
   ],
   "source": [
    "raw_hosts.to_sql(name = 'raw_hosts', con = engine, if_exists='replace', index=False)\n",
    "raw_listings.to_sql(name = 'raw_listings', con = engine, if_exists='replace', index=False)\n",
    "raw_reviews.to_sql(name = 'raw_reviews', con = engine, if_exists='replace', index=False)"
   ]
  },
  {
   "cell_type": "code",
   "execution_count": null,
   "id": "076de714",
   "metadata": {},
   "outputs": [],
   "source": []
  }
 ],
 "metadata": {
  "kernelspec": {
   "display_name": "Python 3 (ipykernel)",
   "language": "python",
   "name": "python3"
  },
  "language_info": {
   "codemirror_mode": {
    "name": "ipython",
    "version": 3
   },
   "file_extension": ".py",
   "mimetype": "text/x-python",
   "name": "python",
   "nbconvert_exporter": "python",
   "pygments_lexer": "ipython3",
   "version": "3.9.9"
  }
 },
 "nbformat": 4,
 "nbformat_minor": 5
}
